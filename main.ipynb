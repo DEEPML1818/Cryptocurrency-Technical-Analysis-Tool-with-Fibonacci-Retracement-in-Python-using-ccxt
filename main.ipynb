{
 "cells": [
  {
   "cell_type": "code",
   "execution_count": 1,
   "metadata": {},
   "outputs": [
    {
     "name": "stdout",
     "output_type": "stream",
     "text": [
      "Fibonacci Retracement Levels: [51918.98, 51856.45652, 51817.77674, 51786.515, 51755.253260000005, 51654.05]\n"
     ]
    }
   ],
   "source": [
    "import ccxt\n",
    "import numpy as np\n",
    "\n",
    "# Function to fetch historical OHLCV data\n",
    "def fetch_ohlcv(symbol, timeframe, limit):\n",
    "    exchange = ccxt.binance()  # Replace with your exchange of choice\n",
    "    ohlcv = exchange.fetch_ohlcv(symbol, timeframe, limit=limit)\n",
    "    return ohlcv\n",
    "\n",
    "# Function to calculate Fibonacci retracement levels\n",
    "def fibonacci_retracement_levels(start, end):\n",
    "    levels = [0, 23.6, 38.2, 50, 61.8, 100]  # Fibonacci retracement levels in percent\n",
    "\n",
    "    retracement_values = []\n",
    "    for level in levels:\n",
    "        retracement = start + (level / 100) * (end - start)\n",
    "        retracement_values.append(retracement)\n",
    "\n",
    "    return retracement_values\n",
    "\n",
    "# Example usage\n",
    "symbol = 'BTC/USDT'  # Replace with the trading pair you're interested in\n",
    "timeframe = '1h'    # Replace with the desired timeframe\n",
    "limit = 100          # Number of historical data points to fetch\n",
    "\n",
    "ohlcv_data = fetch_ohlcv(symbol, timeframe, limit)\n",
    "\n",
    "# Extracting closing prices from the OHLCV data\n",
    "closing_prices = [ohlcv[4] for ohlcv in ohlcv_data]\n",
    "\n",
    "start_price = closing_prices[0]\n",
    "end_price = closing_prices[-1]\n",
    "\n",
    "retracement_levels = fibonacci_retracement_levels(start_price, end_price)\n",
    "print(\"Fibonacci Retracement Levels:\", retracement_levels)\n"
   ]
  },
  {
   "cell_type": "code",
   "execution_count": 2,
   "metadata": {},
   "outputs": [],
   "source": [
    "import ccxt\n",
    "import numpy as np"
   ]
  },
  {
   "cell_type": "code",
   "execution_count": 3,
   "metadata": {},
   "outputs": [],
   "source": [
    "def fetch_ohlcv(symbol, timeframe, limit):\n",
    "    exchange = ccxt.binance()  # Replace with your exchange of choice\n",
    "    ohlcv = exchange.fetch_ohlcv(symbol, timeframe, limit=limit)\n",
    "    return ohlcv"
   ]
  },
  {
   "cell_type": "code",
   "execution_count": 4,
   "metadata": {},
   "outputs": [],
   "source": [
    "def fibonacci_retracement_levels(start, end):\n",
    "    levels = [0, 23.6, 38.2, 50, 61.8, 100]  # Fibonacci retracement levels in percent\n",
    "\n",
    "    retracement_values = []\n",
    "    for level in levels:\n",
    "        retracement = start + (level / 100) * (end - start)\n",
    "        retracement_values.append(retracement)\n",
    "\n",
    "    return retracement_values"
   ]
  },
  {
   "cell_type": "code",
   "execution_count": 5,
   "metadata": {},
   "outputs": [
    {
     "name": "stdout",
     "output_type": "stream",
     "text": [
      "Fibonacci Retracement Levels: [51911.33, 51678.320120000004, 51534.16994, 51417.665, 51301.16006, 50924.0]\n"
     ]
    }
   ],
   "source": [
    "symbol = 'BTC/USDT'  # Replace with the trading pair you're interested in\n",
    "timeframe = '1h'    # Replace with the desired timeframe\n",
    "limit = 100          # Number of historical data points to fetch\n",
    "\n",
    "ohlcv_data = fetch_ohlcv(symbol, timeframe, limit)\n",
    "\n",
    "# Extracting closing prices from the OHLCV data\n",
    "closing_prices = [ohlcv[4] for ohlcv in ohlcv_data]\n",
    "\n",
    "start_price = closing_prices[0]\n",
    "end_price = closing_prices[-1]\n",
    "\n",
    "retracement_levels = fibonacci_retracement_levels(start_price, end_price)\n",
    "print(\"Fibonacci Retracement Levels:\", retracement_levels)"
   ]
  }
 ],
 "metadata": {
  "kernelspec": {
   "display_name": "base",
   "language": "python",
   "name": "python3"
  },
  "language_info": {
   "codemirror_mode": {
    "name": "ipython",
    "version": 3
   },
   "file_extension": ".py",
   "mimetype": "text/x-python",
   "name": "python",
   "nbconvert_exporter": "python",
   "pygments_lexer": "ipython3",
   "version": "3.9.13"
  },
  "orig_nbformat": 4,
  "vscode": {
   "interpreter": {
    "hash": "ad2bdc8ecc057115af97d19610ffacc2b4e99fae6737bb82f5d7fb13d2f2c186"
   }
  }
 },
 "nbformat": 4,
 "nbformat_minor": 2
}
